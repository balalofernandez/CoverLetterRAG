{
 "cells": [
  {
   "cell_type": "code",
   "execution_count": 12,
   "metadata": {},
   "outputs": [],
   "source": [
    "import torch\n",
    "torch.cuda.empty_cache()\n",
    "from transformers import (\n",
    "    AutoModelForCausalLM,\n",
    "    AutoTokenizer,\n",
    "    BitsAndBytesConfig,\n",
    "    pipeline\n",
    ")\n",
    "\n",
    "from langchain.text_splitter import RecursiveCharacterTextSplitter\n",
    "from langchain.document_transformers import Html2TextTransformer\n",
    "from langchain.document_loaders import AsyncChromiumLoader\n",
    "\n",
    "from langchain.embeddings.huggingface import HuggingFaceEmbeddings\n",
    "from langchain.vectorstores import FAISS\n",
    "\n",
    "from langchain.prompts import PromptTemplate\n",
    "from langchain.schema.runnable import RunnablePassthrough\n",
    "from langchain.llms import HuggingFacePipeline\n",
    "from langchain.chains import LLMChain"
   ]
  },
  {
   "cell_type": "code",
   "execution_count": 13,
   "metadata": {},
   "outputs": [
    {
     "data": {
      "application/vnd.jupyter.widget-view+json": {
       "model_id": "7918cc9b70054a7db5dcc3397270f843",
       "version_major": 2,
       "version_minor": 0
      },
      "text/plain": [
       "Loading checkpoint shards:   0%|          | 0/2 [00:00<?, ?it/s]"
      ]
     },
     "metadata": {},
     "output_type": "display_data"
    }
   ],
   "source": [
    "\n",
    "model_name='mistralai/Mistral-7B-Instruct-v0.1'\n",
    "\n",
    "tokenizer = AutoTokenizer.from_pretrained(model_name, trust_remote_code=True)\n",
    "bnb_config = BitsAndBytesConfig(\n",
    "    load_in_4bit=True,\n",
    "    bnb_4bit_quant_type=\"nf4\",\n",
    "    bnb_4bit_compute_dtype=getattr(torch, \"float16\"),\n",
    "    bnb_4bit_use_double_quant=False,\n",
    ")\n",
    "\n",
    "model = AutoModelForCausalLM.from_pretrained(\n",
    "    model_name,\n",
    "    quantization_config=bnb_config,\n",
    ")\n",
    "text_generation_pipeline = pipeline(\n",
    "    model=model,\n",
    "    tokenizer=tokenizer,\n",
    "    task=\"text-generation\",\n",
    "    temperature=0.2,\n",
    "    repetition_penalty=1.1,\n",
    "    return_full_text=True,\n",
    "    max_new_tokens=1000,\n",
    ")\n",
    "mistral_llm = HuggingFacePipeline(pipeline=text_generation_pipeline)"
   ]
  },
  {
   "cell_type": "markdown",
   "metadata": {},
   "source": [
    "# Let's use FAISS for the RAG"
   ]
  },
  {
   "cell_type": "code",
   "execution_count": 14,
   "metadata": {},
   "outputs": [],
   "source": [
    "import nest_asyncio\n",
    "nest_asyncio.apply()\n",
    "\n",
    "# Articles to index\n",
    "articles = [\n",
    "    \"https://uk.investing.com/news/stock-market-news/iran-seizes-oil-tanker-involved-in-usiran-dispute-in-gulf-of-oman-3297614\",\n",
    "    \"https://uk.investing.com/news/world-news/biden-warns-of-more-strikes-on-yemens-houthis-if-red-sea-attacks-persist-3297572\",\n",
    "    \"https://uk.investing.com/news/commodities-news/oil-prices-slips-lower-consolidating-ahead-of-dataheavy-week-3298043\",\n",
    "    \"https://uk.investing.com/news/commodities-news/oil-slips-investors-eye-mideast-developments-3298049\",\n",
    "    \"https://uk.investing.com/news/stock-market-news/qatar-pauses-red-sea-tankers-after-western-strikes-on-houthis-3298339\",\n",
    "    \"https://uk.investing.com/news/stock-market-news/factboxshipping-firms-react-to-houthi-attacks-in-the-red-sea-3298396\"\n",
    "]\n",
    "# Scrapes the blogs above\n",
    "loader = AsyncChromiumLoader(articles)\n",
    "docs = loader.load()"
   ]
  },
  {
   "cell_type": "code",
   "execution_count": null,
   "metadata": {},
   "outputs": [],
   "source": [
    "# Converts HTML to plain text \n",
    "html2text = Html2TextTransformer()\n",
    "docs_transformed = html2text.transform_documents(docs)\n",
    "\n",
    "# Chunk text\n",
    "text_splitter = RecursiveCharacterTextSplitter(chunk_size=100, \n",
    "                                      chunk_overlap=0)\n",
    "chunked_documents = text_splitter.split_documents(docs_transformed)\n",
    "\n",
    "# Load chunked documents into the FAISS index\n",
    "db = FAISS.from_documents(chunked_documents, \n",
    "                          HuggingFaceEmbeddings(model_name='sentence-transformers/all-mpnet-base-v2'))\n",
    "\n",
    "retriever = db.as_retriever()"
   ]
  },
  {
   "cell_type": "code",
   "execution_count": 18,
   "metadata": {},
   "outputs": [],
   "source": [
    "from langchain.text_splitter import RecursiveCharacterTextSplitter\n",
    "from langchain_community.document_loaders import UnstructuredURLLoader\n",
    "from langchain_community.vectorstores import Chroma\n",
    "from langchain_core.runnables import RunnablePassthrough"
   ]
  },
  {
   "cell_type": "code",
   "execution_count": 30,
   "metadata": {},
   "outputs": [],
   "source": [
    "# Load, chunk and index the contents of the blog.\n",
    "loader = UnstructuredURLLoader(urls=articles)\n",
    "docs = loader.load()\n",
    "\n",
    "text_splitter = RecursiveCharacterTextSplitter(chunk_size=1000, chunk_overlap=200)\n",
    "splits = text_splitter.split_documents(docs)\n",
    "print(splits)\n",
    "vectorstore = Chroma.from_documents(documents=splits, embedding=HuggingFaceEmbeddings(model_name='sentence-transformers/all-mpnet-base-v2'))\n",
    "\n",
    "# Retrieve and generate using the relevant snippets of the blog.\n",
    "retriever = vectorstore.as_retriever()"
   ]
  },
  {
   "cell_type": "markdown",
   "metadata": {},
   "source": [
    "# Create a Prompt and LLMChain"
   ]
  },
  {
   "cell_type": "code",
   "execution_count": null,
   "metadata": {},
   "outputs": [],
   "source": [
    "prompt_template = \"\"\"\n",
    "### [INST] Instruction: Answer the question based on your oil knowledge. Here is context to help:\n",
    "\n",
    "{context}\n",
    "\n",
    "### QUESTION:\n",
    "{question} [/INST]\n",
    " \"\"\"\n",
    "\n",
    "# Create prompt from prompt template \n",
    "prompt = PromptTemplate(\n",
    "    input_variables=[\"context\", \"question\"],\n",
    "    template=prompt_template,\n",
    ")\n",
    "\n",
    "# Create llm chain \n",
    "llm_chain = LLMChain(llm=mistral_llm, prompt=prompt)"
   ]
  },
  {
   "cell_type": "markdown",
   "metadata": {},
   "source": [
    "Now with context:"
   ]
  },
  {
   "cell_type": "code",
   "execution_count": 31,
   "metadata": {},
   "outputs": [
    {
     "name": "stderr",
     "output_type": "stream",
     "text": [
      "/home/balalo/.local/lib/python3.10/site-packages/transformers/generation/configuration_utils.py:389: UserWarning: `do_sample` is set to `False`. However, `temperature` is set to `0.2` -- this flag is only used in sample-based generation modes. You should set `do_sample=True` or unset `temperature`.\n",
      "  warnings.warn(\n",
      "Setting `pad_token_id` to `eos_token_id`:2 for open-end generation.\n"
     ]
    }
   ],
   "source": [
    "rag_chain = ( \n",
    " {\"context\": retriever, \"question\": RunnablePassthrough()}\n",
    "    | llm_chain\n",
    ")\n",
    "\n",
    "result = rag_chain.invoke(\"Should I invest in oil?\")"
   ]
  },
  {
   "cell_type": "code",
   "execution_count": 32,
   "metadata": {},
   "outputs": [
    {
     "data": {
      "text/plain": [
       "langchain_core.runnables.base.RunnableSequence"
      ]
     },
     "execution_count": 32,
     "metadata": {},
     "output_type": "execute_result"
    }
   ],
   "source": [
    "type(rag_chain)"
   ]
  },
  {
   "cell_type": "code",
   "execution_count": 33,
   "metadata": {},
   "outputs": [
    {
     "data": {
      "text/plain": [
       "[Document(page_content='Markets were now awaiting any potential retaliation by the Houthis for last week’s strikes, after the group said it will continue targeting ships headed towards Israel.\\n\\n\"While geopolitical risks are certainly building, we are still not seeing a reduction in oil supply as a result of developments in the region,\" said analysts at ING, in a note. \"But, the more escalation we see in the region, the more the market will have to start pricing\\xa0in a larger risk of supply disruptions.\"\\n\\nOil prices were also nursing a weak start to 2024 after tumbling over 10% in the past year, as markets remained convinced that global crude demand will see little improvement this year amid pressure from high interest rates, cooling economic growth and sticky inflation.\\n\\nChina, US data awaited for more demand cues\\n\\nFocus was now squarely on key upcoming economic readings from the U.S. and China this week, for more cues on the potential path of demand.', metadata={'source': 'https://uk.investing.com/news/commodities-news/oil-prices-slips-lower-consolidating-ahead-of-dataheavy-week-3298043'}),\n",
       " Document(page_content='In Libya, people protesting against perceived corruption threatened to shut down two more oil and gas facilities after shutting the 300,000 barrel-per-day Sharara field on Jan. 7.\\n\\nThe U.S. and Canada are dealing with frigid weather that is shutting in some oil production. North Dakota oil output has fallen by 400,000-425,000 bpd on extreme cold and related operational issues, the North Dakota Pipeline Authority estimated on Monday.\\n\\n\"Cold weather is impacting production, but (prices) seem to be down on the perception that this cold snap is going to break soon,\" said Phil Flynn, an analyst at Price Futures Group in Chicago.\\n\\nThe economic situation also remains somewhat gloomy, with the European Central Bank warning it is too early to discuss cutting interest rates.\\n\\nOil edges lower despite Middle East conflict\\n\\nComments (1)\\n\\nRelated Articles\\n\\nAdd a Comment\\n\\n\\nComment Guidelines', metadata={'source': 'https://uk.investing.com/news/commodities-news/oil-slips-investors-eye-mideast-developments-3298049'}),\n",
       " Document(page_content='Oil edges lower despite Middle East conflict\\n\\nComments (1)\\n\\nRelated Articles\\n\\nAdd a Comment\\n\\n\\nComment Guidelines \\n\\nWe encourage you to use comments to engage with users, share your perspective and ask questions of authors and each other. However, in order to maintain the high level of discourse we’ve all come to value and expect, please keep the following criteria in mind:\\n\\nEnrich the conversation\\n\\nStay focused and on track. Only post material that’s relevant to the topic being discussed.\\n\\nBe respectful. Even negative opinions can be framed positively and diplomatically.\\n\\nUse standard writing style. Include punctuation and upper and lower cases.\\n\\nNOTE: Spam and/or promotional messages and links within a comment will be removed\\n\\nAvoid profanity, slander or personal attacks directed at an author or another user.', metadata={'source': 'https://uk.investing.com/news/commodities-news/oil-slips-investors-eye-mideast-developments-3298049'}),\n",
       " Document(page_content=\"By Nia Williams\\n\\n(Reuters) -Oil prices weakened slightly on Monday as the Middle East conflict's limited impact on crude output prompted profit taking after oil benchmarks gained 2% last week.\\n\\nBrent crude futures settled down 14 cents, or about 0.2%, at $78.15 a barrel. There was no settlement for U.S. West Texas Intermediate crude due to the U.S. Martin Luther King Jr. Day holiday, but the benchmark was down 18 cents, or about 0.3%, at $72.50 at 1513 EST. Both benchmarks fell more than $1 per barrel earlier in the session.\\n\\nSeveral tanker owners avoided the Red Sea and multiple tankers changed course on Friday after U.S. and Britain launched strikes against Houthi targets in Yemen after the Iran-aligned group's attacks on shipping in response to Israel's war against Hamas in Gaza.\\n\\nThe conflict has also held up at least four liquefied natural gas tankers travelling in the area.\", metadata={'source': 'https://uk.investing.com/news/commodities-news/oil-slips-investors-eye-mideast-developments-3298049'})]"
      ]
     },
     "execution_count": 33,
     "metadata": {},
     "output_type": "execute_result"
    }
   ],
   "source": [
    "result['context']"
   ]
  },
  {
   "cell_type": "code",
   "execution_count": 34,
   "metadata": {},
   "outputs": [
    {
     "name": "stdout",
     "output_type": "stream",
     "text": [
      "\n",
      "Based on the provided information, it appears that there are several factors affecting the oil market, including geopolitical risks, economic conditions, and weather-related disruptions. While oil prices have been volatile in recent years, it is important to consider the long-term trends and potential risks before making any investment decisions.\n",
      "\n",
      "It is worth noting that investing in oil can be a complex and potentially high-risk endeavor, as the market is subject to a wide range of factors that can affect supply and demand. Additionally, the environmental and social impacts of oil production and consumption should also be considered when evaluating the potential benefits and drawbacks of investing in this commodity.\n",
      "\n",
      "Ultimately, whether or not you should invest in oil depends on your individual financial goals, risk tolerance, and understanding of the market dynamics. It may be beneficial to consult with a financial advisor or conduct further research before making any investment decisions.\n"
     ]
    }
   ],
   "source": [
    "print(result['text'])"
   ]
  },
  {
   "cell_type": "code",
   "execution_count": null,
   "metadata": {},
   "outputs": [],
   "source": []
  }
 ],
 "metadata": {
  "kernelspec": {
   "display_name": "kaggle",
   "language": "python",
   "name": "python3"
  },
  "language_info": {
   "codemirror_mode": {
    "name": "ipython",
    "version": 3
   },
   "file_extension": ".py",
   "mimetype": "text/x-python",
   "name": "python",
   "nbconvert_exporter": "python",
   "pygments_lexer": "ipython3",
   "version": "3.10.12"
  }
 },
 "nbformat": 4,
 "nbformat_minor": 2
}
